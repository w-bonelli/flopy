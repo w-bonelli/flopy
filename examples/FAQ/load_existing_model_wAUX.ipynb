{
 "cells": [
  {
   "cell_type": "code",
   "execution_count": 1,
   "metadata": {
    "execution": {
     "iopub.execute_input": "2022-12-15T10:40:38.925613Z",
     "iopub.status.busy": "2022-12-15T10:40:38.925077Z",
     "iopub.status.idle": "2022-12-15T10:40:40.096968Z",
     "shell.execute_reply": "2022-12-15T10:40:40.093271Z"
    }
   },
   "outputs": [
    {
     "name": "stdout",
     "output_type": "stream",
     "text": [
      "3.7.15 (default, Oct 18 2022, 09:36:49) \n",
      "[GCC 11.2.0]\n",
      "flopy version: 3.3.6\n"
     ]
    }
   ],
   "source": [
    "import os\n",
    "import sys\n",
    "\n",
    "try:\n",
    "    import flopy\n",
    "except:\n",
    "    fpth = os.path.abspath(os.path.join(\"..\", \"..\"))\n",
    "    sys.path.append(fpth)\n",
    "    import flopy\n",
    "\n",
    "print(sys.version)\n",
    "print(\"flopy version: {}\".format(flopy.__version__))"
   ]
  },
  {
   "cell_type": "markdown",
   "metadata": {},
   "source": [
    "**Load an existing MODFLOW-2005 model with auxiliary variables**"
   ]
  },
  {
   "cell_type": "code",
   "execution_count": 2,
   "metadata": {
    "execution": {
     "iopub.execute_input": "2022-12-15T10:40:40.147010Z",
     "iopub.status.busy": "2022-12-15T10:40:40.146215Z",
     "iopub.status.idle": "2022-12-15T10:40:40.164967Z",
     "shell.execute_reply": "2022-12-15T10:40:40.164202Z"
    }
   },
   "outputs": [],
   "source": [
    "model_ws = os.path.join(\"..\", \"data\", \"mp6\")\n",
    "ml = flopy.modflow.Modflow.load(\n",
    "    \"EXAMPLE.nam\",\n",
    "    model_ws=model_ws,\n",
    "    verbose=False,\n",
    "    version=\"mf2005\",\n",
    "    check=False,\n",
    ")"
   ]
  },
  {
   "cell_type": "markdown",
   "metadata": {},
   "source": [
    "**Auxiliary IFACE data are in the river package**"
   ]
  },
  {
   "cell_type": "code",
   "execution_count": 3,
   "metadata": {
    "execution": {
     "iopub.execute_input": "2022-12-15T10:40:40.169155Z",
     "iopub.status.busy": "2022-12-15T10:40:40.168606Z",
     "iopub.status.idle": "2022-12-15T10:40:40.173725Z",
     "shell.execute_reply": "2022-12-15T10:40:40.171999Z"
    }
   },
   "outputs": [],
   "source": [
    "riv = ml.riv.stress_period_data[0]"
   ]
  },
  {
   "cell_type": "markdown",
   "metadata": {},
   "source": [
    "You can confirm that the `iface` auxiliary data have been read by looking at the `dtype`."
   ]
  },
  {
   "cell_type": "code",
   "execution_count": 4,
   "metadata": {
    "execution": {
     "iopub.execute_input": "2022-12-15T10:40:40.178547Z",
     "iopub.status.busy": "2022-12-15T10:40:40.178270Z",
     "iopub.status.idle": "2022-12-15T10:40:40.186402Z",
     "shell.execute_reply": "2022-12-15T10:40:40.185604Z"
    }
   },
   "outputs": [
    {
     "data": {
      "text/plain": [
       "dtype((numpy.record, [('k', '<i8'), ('i', '<i8'), ('j', '<i8'), ('stage', '<f4'), ('cond', '<f4'), ('rbot', '<f4'), ('iface', '<f4')]))"
      ]
     },
     "execution_count": 4,
     "metadata": {},
     "output_type": "execute_result"
    }
   ],
   "source": [
    "riv.dtype"
   ]
  },
  {
   "cell_type": "markdown",
   "metadata": {},
   "source": [
    "You can access the `iface` data from the recarray"
   ]
  },
  {
   "cell_type": "code",
   "execution_count": 5,
   "metadata": {
    "execution": {
     "iopub.execute_input": "2022-12-15T10:40:40.190728Z",
     "iopub.status.busy": "2022-12-15T10:40:40.189977Z",
     "iopub.status.idle": "2022-12-15T10:40:40.196041Z",
     "shell.execute_reply": "2022-12-15T10:40:40.195188Z"
    }
   },
   "outputs": [
    {
     "data": {
      "text/plain": [
       "array([6., 6., 6., 6., 6., 6., 6., 6., 6., 6., 6., 6., 6., 6., 6., 6., 6.,\n",
       "       6., 6., 6., 6., 6., 6., 6., 6.], dtype=float32)"
      ]
     },
     "execution_count": 5,
     "metadata": {},
     "output_type": "execute_result"
    }
   ],
   "source": [
    "riv[\"iface\"]"
   ]
  },
  {
   "cell_type": "code",
   "execution_count": null,
   "metadata": {},
   "outputs": [],
   "source": []
  }
 ],
 "metadata": {
  "kernelspec": {
   "display_name": "Python 3 (ipykernel)",
   "language": "python",
   "name": "python3"
  },
  "language_info": {
   "codemirror_mode": {
    "name": "ipython",
    "version": 3
   },
   "file_extension": ".py",
   "mimetype": "text/x-python",
   "name": "python",
   "nbconvert_exporter": "python",
   "pygments_lexer": "ipython3",
   "version": "3.7.15"
  }
 },
 "nbformat": 4,
 "nbformat_minor": 4
}
