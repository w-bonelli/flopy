{
 "cells": [
  {
   "cell_type": "markdown",
   "metadata": {},
   "source": [
    "# FloPy shapefile export demo\n",
    "The goal of this notebook is to demonstrate ways to export model information to shapefiles.\n",
    "This example will cover:\n",
    "* basic exporting of information for a model, individual package, or dataset\n",
    "* custom exporting of combined data from different packages\n",
    "* general exporting and importing of geographic data from other sources"
   ]
  },
  {
   "cell_type": "code",
   "execution_count": 1,
   "metadata": {
    "execution": {
     "iopub.execute_input": "2022-12-15T10:32:59.228405Z",
     "iopub.status.busy": "2022-12-15T10:32:59.227518Z",
     "iopub.status.idle": "2022-12-15T10:33:00.409572Z",
     "shell.execute_reply": "2022-12-15T10:33:00.407897Z"
    }
   },
   "outputs": [
    {
     "name": "stdout",
     "output_type": "stream",
     "text": [
      "3.7.15 (default, Oct 18 2022, 09:36:49) \n",
      "[GCC 11.2.0]\n",
      "numpy version: 1.21.6\n",
      "matplotlib version: 3.5.3\n",
      "flopy version: 3.3.6\n"
     ]
    }
   ],
   "source": [
    "import sys\n",
    "import os\n",
    "from tempfile import TemporaryDirectory\n",
    "\n",
    "import numpy as np\n",
    "import matplotlib as mpl\n",
    "import matplotlib.pyplot as plt\n",
    "import pandas as pd\n",
    "\n",
    "# run installed version of flopy or add local path\n",
    "try:\n",
    "    import flopy\n",
    "except:\n",
    "    fpth = os.path.abspath(os.path.join(\"..\", \"..\"))\n",
    "    sys.path.append(fpth)\n",
    "    import flopy\n",
    "\n",
    "print(sys.version)\n",
    "print(\"numpy version: {}\".format(np.__version__))\n",
    "print(\"matplotlib version: {}\".format(mpl.__version__))\n",
    "print(\"flopy version: {}\".format(flopy.__version__))"
   ]
  },
  {
   "cell_type": "code",
   "execution_count": 2,
   "metadata": {
    "execution": {
     "iopub.execute_input": "2022-12-15T10:33:00.465831Z",
     "iopub.status.busy": "2022-12-15T10:33:00.464777Z",
     "iopub.status.idle": "2022-12-15T10:33:00.481838Z",
     "shell.execute_reply": "2022-12-15T10:33:00.480972Z"
    }
   },
   "outputs": [],
   "source": [
    "# temporary directory\n",
    "temp_dir = TemporaryDirectory()\n",
    "outdir = os.path.join(temp_dir.name, \"shapefile_export\")\n",
    "\n",
    "# load an existing model\n",
    "model_ws = \"../data/freyberg\"\n",
    "m = flopy.modflow.Modflow.load(\n",
    "    \"freyberg.nam\",\n",
    "    model_ws=model_ws,\n",
    "    verbose=False,\n",
    "    check=False,\n",
    "    exe_name=\"mfnwt\",\n",
    ")"
   ]
  },
  {
   "cell_type": "code",
   "execution_count": 3,
   "metadata": {
    "execution": {
     "iopub.execute_input": "2022-12-15T10:33:00.486155Z",
     "iopub.status.busy": "2022-12-15T10:33:00.485574Z",
     "iopub.status.idle": "2022-12-15T10:33:00.494474Z",
     "shell.execute_reply": "2022-12-15T10:33:00.493439Z"
    }
   },
   "outputs": [
    {
     "data": {
      "text/plain": [
       "['DIS', 'BAS6', 'LPF', 'WEL', 'RIV', 'RCH', 'OC', 'PCG']"
      ]
     },
     "execution_count": 3,
     "metadata": {},
     "output_type": "execute_result"
    }
   ],
   "source": [
    "m.get_package_list()"
   ]
  },
  {
   "cell_type": "markdown",
   "metadata": {},
   "source": [
    "### set the model coordinate information\n",
    "the coordinate information where the grid is located in a projected coordinate system (e.g. UTM)"
   ]
  },
  {
   "cell_type": "code",
   "execution_count": 4,
   "metadata": {
    "execution": {
     "iopub.execute_input": "2022-12-15T10:33:00.498482Z",
     "iopub.status.busy": "2022-12-15T10:33:00.497949Z",
     "iopub.status.idle": "2022-12-15T10:33:00.502654Z",
     "shell.execute_reply": "2022-12-15T10:33:00.501814Z"
    }
   },
   "outputs": [],
   "source": [
    "grid = m.modelgrid\n",
    "grid.set_coord_info(xoff=273170, yoff=5088657, epsg=26916)"
   ]
  },
  {
   "cell_type": "code",
   "execution_count": 5,
   "metadata": {
    "execution": {
     "iopub.execute_input": "2022-12-15T10:33:00.506758Z",
     "iopub.status.busy": "2022-12-15T10:33:00.506159Z",
     "iopub.status.idle": "2022-12-15T10:33:00.512491Z",
     "shell.execute_reply": "2022-12-15T10:33:00.511629Z"
    }
   },
   "outputs": [
    {
     "data": {
      "text/plain": [
       "(273170.0, 278170.0, 5088657.0, 5098657.0)"
      ]
     },
     "execution_count": 5,
     "metadata": {},
     "output_type": "execute_result"
    }
   ],
   "source": [
    "grid.extent"
   ]
  },
  {
   "cell_type": "markdown",
   "metadata": {},
   "source": [
    "## Declarative export using attached `.export()` methods\n",
    "#### Export the whole model to a single shapefile"
   ]
  },
  {
   "cell_type": "code",
   "execution_count": 6,
   "metadata": {
    "execution": {
     "iopub.execute_input": "2022-12-15T10:33:00.516260Z",
     "iopub.status.busy": "2022-12-15T10:33:00.515717Z",
     "iopub.status.idle": "2022-12-15T10:33:01.090950Z",
     "shell.execute_reply": "2022-12-15T10:33:01.090027Z"
    },
    "scrolled": true
   },
   "outputs": [
    {
     "name": "stdout",
     "output_type": "stream",
     "text": [
      "wrote /tmp/tmplxpg87yc/shapefile_export/model.shp\n"
     ]
    },
    {
     "data": {
      "text/plain": [
       "'/tmp/tmplxpg87yc/shapefile_export/model.shp'"
      ]
     },
     "execution_count": 6,
     "metadata": {},
     "output_type": "execute_result"
    }
   ],
   "source": [
    "fname = \"{}/model.shp\".format(outdir)\n",
    "m.export(fname)"
   ]
  },
  {
   "cell_type": "code",
   "execution_count": 7,
   "metadata": {
    "execution": {
     "iopub.execute_input": "2022-12-15T10:33:01.095317Z",
     "iopub.status.busy": "2022-12-15T10:33:01.094316Z",
     "iopub.status.idle": "2022-12-15T10:33:01.472275Z",
     "shell.execute_reply": "2022-12-15T10:33:01.471514Z"
    }
   },
   "outputs": [
    {
     "data": {
      "image/png": "[encoded data removed]",
      "text/plain": [
       "<Figure size 640x480 with 1 Axes>"
      ]
     },
     "metadata": {},
     "output_type": "display_data"
    }
   ],
   "source": [
    "ax = plt.subplot(1, 1, 1, aspect=\"equal\")\n",
    "extents = grid.extent\n",
    "pc = flopy.plot.plot_shapefile(fname, ax=ax, edgecolor=\"k\", facecolor=\"none\")\n",
    "ax.set_xlim(extents[0], extents[1])\n",
    "ax.set_ylim(extents[2], extents[3])\n",
    "ax.set_title(fname);"
   ]
  },
  {
   "cell_type": "code",
   "execution_count": 8,
   "metadata": {
    "execution": {
     "iopub.execute_input": "2022-12-15T10:33:01.476168Z",
     "iopub.status.busy": "2022-12-15T10:33:01.475596Z",
     "iopub.status.idle": "2022-12-15T10:33:01.550802Z",
     "shell.execute_reply": "2022-12-15T10:33:01.550043Z"
    }
   },
   "outputs": [
    {
     "name": "stdout",
     "output_type": "stream",
     "text": [
      "wrote /tmp/tmplxpg87yc/shapefile_export/wel.shp\n"
     ]
    }
   ],
   "source": [
    "fname = \"{}/wel.shp\".format(outdir)\n",
    "m.wel.export(fname)"
   ]
  },
  {
   "cell_type": "markdown",
   "metadata": {},
   "source": [
    "### Export a package to a shapefile"
   ]
  },
  {
   "cell_type": "markdown",
   "metadata": {},
   "source": [
    "### Export a FloPy list or array object"
   ]
  },
  {
   "cell_type": "code",
   "execution_count": 9,
   "metadata": {
    "execution": {
     "iopub.execute_input": "2022-12-15T10:33:01.556908Z",
     "iopub.status.busy": "2022-12-15T10:33:01.556298Z",
     "iopub.status.idle": "2022-12-15T10:33:01.561795Z",
     "shell.execute_reply": "2022-12-15T10:33:01.561071Z"
    }
   },
   "outputs": [
    {
     "data": {
      "text/plain": [
       "<flopy.utils.util_array.Util3d at 0x7fb711592d90>"
      ]
     },
     "execution_count": 9,
     "metadata": {},
     "output_type": "execute_result"
    }
   ],
   "source": [
    "m.lpf.hk"
   ]
  },
  {
   "cell_type": "code",
   "execution_count": 10,
   "metadata": {
    "execution": {
     "iopub.execute_input": "2022-12-15T10:33:01.565582Z",
     "iopub.status.busy": "2022-12-15T10:33:01.564994Z",
     "iopub.status.idle": "2022-12-15T10:33:01.639375Z",
     "shell.execute_reply": "2022-12-15T10:33:01.638499Z"
    }
   },
   "outputs": [
    {
     "name": "stdout",
     "output_type": "stream",
     "text": [
      "wrote /tmp/tmplxpg87yc/shapefile_export/hk.shp\n"
     ]
    }
   ],
   "source": [
    "fname = \"{}/hk.shp\".format(outdir)\n",
    "m.lpf.hk.export(\"{}/hk.shp\".format(outdir))"
   ]
  },
  {
   "cell_type": "code",
   "execution_count": 11,
   "metadata": {
    "execution": {
     "iopub.execute_input": "2022-12-15T10:33:01.644099Z",
     "iopub.status.busy": "2022-12-15T10:33:01.643736Z",
     "iopub.status.idle": "2022-12-15T10:33:01.944817Z",
     "shell.execute_reply": "2022-12-15T10:33:01.943885Z"
    }
   },
   "outputs": [
    {
     "data": {
      "image/png": "[encoded data removed]",
      "text/plain": [
       "<Figure size 640x480 with 1 Axes>"
      ]
     },
     "metadata": {},
     "output_type": "display_data"
    }
   ],
   "source": [
    "ax = plt.subplot(1, 1, 1, aspect=\"equal\")\n",
    "extents = grid.extent\n",
    "a = m.lpf.hk.array.ravel()\n",
    "pc = flopy.plot.plot_shapefile(fname, ax=ax, a=a)\n",
    "ax.set_xlim(extents[0], extents[1])\n",
    "ax.set_ylim(extents[2], extents[3])\n",
    "ax.set_title(fname);"
   ]
  },
  {
   "cell_type": "code",
   "execution_count": 12,
   "metadata": {
    "execution": {
     "iopub.execute_input": "2022-12-15T10:33:01.950726Z",
     "iopub.status.busy": "2022-12-15T10:33:01.949232Z",
     "iopub.status.idle": "2022-12-15T10:33:01.957641Z",
     "shell.execute_reply": "2022-12-15T10:33:01.956916Z"
    }
   },
   "outputs": [
    {
     "data": {
      "text/plain": [
       "<flopy.utils.util_list.MfList at 0x7fb71efdd050>"
      ]
     },
     "execution_count": 12,
     "metadata": {},
     "output_type": "execute_result"
    }
   ],
   "source": [
    "m.riv.stress_period_data"
   ]
  },
  {
   "cell_type": "code",
   "execution_count": 13,
   "metadata": {
    "execution": {
     "iopub.execute_input": "2022-12-15T10:33:01.962929Z",
     "iopub.status.busy": "2022-12-15T10:33:01.961320Z",
     "iopub.status.idle": "2022-12-15T10:33:02.047600Z",
     "shell.execute_reply": "2022-12-15T10:33:02.046830Z"
    }
   },
   "outputs": [
    {
     "name": "stdout",
     "output_type": "stream",
     "text": [
      "wrote /tmp/tmplxpg87yc/shapefile_export/riv_spd.shp\n"
     ]
    }
   ],
   "source": [
    "m.riv.stress_period_data.export(\"{}/riv_spd.shp\".format(outdir))"
   ]
  },
  {
   "cell_type": "markdown",
   "metadata": {},
   "source": [
    "### MfList.export() exports the whole grid by default, regardless of the locations of the boundary cells\n",
    "`sparse=True` only exports the boundary cells in the MfList"
   ]
  },
  {
   "cell_type": "code",
   "execution_count": 14,
   "metadata": {
    "execution": {
     "iopub.execute_input": "2022-12-15T10:33:02.051633Z",
     "iopub.status.busy": "2022-12-15T10:33:02.051058Z",
     "iopub.status.idle": "2022-12-15T10:33:02.104195Z",
     "shell.execute_reply": "2022-12-15T10:33:02.103150Z"
    }
   },
   "outputs": [
    {
     "name": "stdout",
     "output_type": "stream",
     "text": [
      "wrote /tmp/tmplxpg87yc/shapefile_export/riv_spd.shp\n"
     ]
    }
   ],
   "source": [
    "m.riv.stress_period_data.export(\"{}/riv_spd.shp\".format(outdir), sparse=True)"
   ]
  },
  {
   "cell_type": "code",
   "execution_count": 15,
   "metadata": {
    "execution": {
     "iopub.execute_input": "2022-12-15T10:33:02.109374Z",
     "iopub.status.busy": "2022-12-15T10:33:02.108684Z",
     "iopub.status.idle": "2022-12-15T10:33:02.144851Z",
     "shell.execute_reply": "2022-12-15T10:33:02.144030Z"
    }
   },
   "outputs": [
    {
     "name": "stdout",
     "output_type": "stream",
     "text": [
      "wrote /tmp/tmplxpg87yc/shapefile_export/wel_spd.shp\n"
     ]
    }
   ],
   "source": [
    "m.wel.stress_period_data.export(\"{}/wel_spd.shp\".format(outdir), sparse=True)"
   ]
  },
  {
   "cell_type": "markdown",
   "metadata": {},
   "source": [
    "## Ad-hoc exporting using `recarray2shp`\n",
    "* The main idea is to create a recarray with all of the attribute information, and a list of geometry features (one feature per row in the recarray)\n",
    "* each geometry feature is an instance of the `Point`, `LineString` or `Polygon` classes in `flopy.utils.geometry`. The shapefile format requires all the features to be of the same type.\n",
    "* We will use pandas dataframes for these examples because they are easy to work with, and then convert them to recarrays prior to exporting.\n"
   ]
  },
  {
   "cell_type": "code",
   "execution_count": 16,
   "metadata": {
    "execution": {
     "iopub.execute_input": "2022-12-15T10:33:02.149673Z",
     "iopub.status.busy": "2022-12-15T10:33:02.148723Z",
     "iopub.status.idle": "2022-12-15T10:33:02.154668Z",
     "shell.execute_reply": "2022-12-15T10:33:02.153786Z"
    }
   },
   "outputs": [],
   "source": [
    "from flopy.export.shapefile_utils import recarray2shp"
   ]
  },
  {
   "cell_type": "markdown",
   "metadata": {},
   "source": [
    "### combining data from different packages\n",
    "write a shapefile of RIV and WEL package cells"
   ]
  },
  {
   "cell_type": "code",
   "execution_count": 17,
   "metadata": {
    "execution": {
     "iopub.execute_input": "2022-12-15T10:33:02.158656Z",
     "iopub.status.busy": "2022-12-15T10:33:02.158201Z",
     "iopub.status.idle": "2022-12-15T10:33:02.175785Z",
     "shell.execute_reply": "2022-12-15T10:33:02.174850Z"
    }
   },
   "outputs": [
    {
     "data": {
      "text/html": [
       "<div>\n",
       "<style scoped>\n",
       "    .dataframe tbody tr th:only-of-type {\n",
       "        vertical-align: middle;\n",
       "    }\n",
       "\n",
       "    .dataframe tbody tr th {\n",
       "        vertical-align: top;\n",
       "    }\n",
       "\n",
       "    .dataframe thead th {\n",
       "        text-align: right;\n",
       "    }\n",
       "</style>\n",
       "<table border=\"1\" class=\"dataframe\">\n",
       "  <thead>\n",
       "    <tr style=\"text-align: right;\">\n",
       "      <th></th>\n",
       "      <th>k</th>\n",
       "      <th>i</th>\n",
       "      <th>j</th>\n",
       "      <th>flux</th>\n",
       "      <th>iface</th>\n",
       "      <th>stage</th>\n",
       "      <th>cond</th>\n",
       "      <th>rbot</th>\n",
       "    </tr>\n",
       "  </thead>\n",
       "  <tbody>\n",
       "    <tr>\n",
       "      <th>0</th>\n",
       "      <td>0</td>\n",
       "      <td>8</td>\n",
       "      <td>15</td>\n",
       "      <td>-0.00820</td>\n",
       "      <td>0.0</td>\n",
       "      <td>NaN</td>\n",
       "      <td>NaN</td>\n",
       "      <td>NaN</td>\n",
       "    </tr>\n",
       "    <tr>\n",
       "      <th>1</th>\n",
       "      <td>0</td>\n",
       "      <td>10</td>\n",
       "      <td>12</td>\n",
       "      <td>-0.00410</td>\n",
       "      <td>0.0</td>\n",
       "      <td>NaN</td>\n",
       "      <td>NaN</td>\n",
       "      <td>NaN</td>\n",
       "    </tr>\n",
       "    <tr>\n",
       "      <th>2</th>\n",
       "      <td>0</td>\n",
       "      <td>19</td>\n",
       "      <td>13</td>\n",
       "      <td>-0.00390</td>\n",
       "      <td>0.0</td>\n",
       "      <td>NaN</td>\n",
       "      <td>NaN</td>\n",
       "      <td>NaN</td>\n",
       "    </tr>\n",
       "    <tr>\n",
       "      <th>3</th>\n",
       "      <td>0</td>\n",
       "      <td>25</td>\n",
       "      <td>9</td>\n",
       "      <td>-0.00083</td>\n",
       "      <td>0.0</td>\n",
       "      <td>NaN</td>\n",
       "      <td>NaN</td>\n",
       "      <td>NaN</td>\n",
       "    </tr>\n",
       "    <tr>\n",
       "      <th>4</th>\n",
       "      <td>0</td>\n",
       "      <td>28</td>\n",
       "      <td>5</td>\n",
       "      <td>-0.00072</td>\n",
       "      <td>0.0</td>\n",
       "      <td>NaN</td>\n",
       "      <td>NaN</td>\n",
       "      <td>NaN</td>\n",
       "    </tr>\n",
       "  </tbody>\n",
       "</table>\n",
       "</div>"
      ],
      "text/plain": [
       "   k   i   j     flux  iface  stage  cond  rbot\n",
       "0  0   8  15 -0.00820    0.0    NaN   NaN   NaN\n",
       "1  0  10  12 -0.00410    0.0    NaN   NaN   NaN\n",
       "2  0  19  13 -0.00390    0.0    NaN   NaN   NaN\n",
       "3  0  25   9 -0.00083    0.0    NaN   NaN   NaN\n",
       "4  0  28   5 -0.00072    0.0    NaN   NaN   NaN"
      ]
     },
     "execution_count": 17,
     "metadata": {},
     "output_type": "execute_result"
    }
   ],
   "source": [
    "wellspd = pd.DataFrame(m.wel.stress_period_data[0])\n",
    "rivspd = pd.DataFrame(m.riv.stress_period_data[0])\n",
    "spd = wellspd.append(rivspd)\n",
    "spd.head()"
   ]
  },
  {
   "cell_type": "markdown",
   "metadata": {},
   "source": [
    "##### Create a list of Polygon features from the cell vertices stored in the modelgrid object"
   ]
  },
  {
   "cell_type": "code",
   "execution_count": 18,
   "metadata": {
    "execution": {
     "iopub.execute_input": "2022-12-15T10:33:02.179719Z",
     "iopub.status.busy": "2022-12-15T10:33:02.179420Z",
     "iopub.status.idle": "2022-12-15T10:33:02.188828Z",
     "shell.execute_reply": "2022-12-15T10:33:02.187961Z"
    }
   },
   "outputs": [
    {
     "data": {
      "text/plain": [
       "[<flopy.utils.geometry.Polygon at 0x7fb70ed1ae90>,\n",
       " <flopy.utils.geometry.Polygon at 0x7fb70ed1afd0>,\n",
       " <flopy.utils.geometry.Polygon at 0x7fb70ed1add0>,\n",
       " <flopy.utils.geometry.Polygon at 0x7fb70ed1af10>,\n",
       " <flopy.utils.geometry.Polygon at 0x7fb70ed1a850>,\n",
       " <flopy.utils.geometry.Polygon at 0x7fb70ed1aa10>,\n",
       " <flopy.utils.geometry.Polygon at 0x7fb70ed1a9d0>,\n",
       " <flopy.utils.geometry.Polygon at 0x7fb70ed1aa90>,\n",
       " <flopy.utils.geometry.Polygon at 0x7fb70ed1a7d0>,\n",
       " <flopy.utils.geometry.Polygon at 0x7fb70ed1a950>,\n",
       " <flopy.utils.geometry.Polygon at 0x7fb73073e050>,\n",
       " <flopy.utils.geometry.Polygon at 0x7fb70edfbdd0>,\n",
       " <flopy.utils.geometry.Polygon at 0x7fb70edfb0d0>,\n",
       " <flopy.utils.geometry.Polygon at 0x7fb70edfb1d0>,\n",
       " <flopy.utils.geometry.Polygon at 0x7fb70edfb7d0>,\n",
       " <flopy.utils.geometry.Polygon at 0x7fb70edfb850>,\n",
       " <flopy.utils.geometry.Polygon at 0x7fb70edfb050>,\n",
       " <flopy.utils.geometry.Polygon at 0x7fb71153d110>,\n",
       " <flopy.utils.geometry.Polygon at 0x7fb71153d050>,\n",
       " <flopy.utils.geometry.Polygon at 0x7fb71153d0d0>,\n",
       " <flopy.utils.geometry.Polygon at 0x7fb730722890>,\n",
       " <flopy.utils.geometry.Polygon at 0x7fb70efbc150>,\n",
       " <flopy.utils.geometry.Polygon at 0x7fb73c0dea50>,\n",
       " <flopy.utils.geometry.Polygon at 0x7fb71153d090>,\n",
       " <flopy.utils.geometry.Polygon at 0x7fb70ef6ff10>,\n",
       " <flopy.utils.geometry.Polygon at 0x7fb70ef6f5d0>,\n",
       " <flopy.utils.geometry.Polygon at 0x7fb70ede3790>,\n",
       " <flopy.utils.geometry.Polygon at 0x7fb70ede3f50>,\n",
       " <flopy.utils.geometry.Polygon at 0x7fb712030f10>,\n",
       " <flopy.utils.geometry.Polygon at 0x7fb730040c90>,\n",
       " <flopy.utils.geometry.Polygon at 0x7fb70ede3b50>,\n",
       " <flopy.utils.geometry.Polygon at 0x7fb70ed91f50>,\n",
       " <flopy.utils.geometry.Polygon at 0x7fb70ed91550>,\n",
       " <flopy.utils.geometry.Polygon at 0x7fb70ed91c50>,\n",
       " <flopy.utils.geometry.Polygon at 0x7fb70ed91890>,\n",
       " <flopy.utils.geometry.Polygon at 0x7fb70ed91350>,\n",
       " <flopy.utils.geometry.Polygon at 0x7fb70ed91110>,\n",
       " <flopy.utils.geometry.Polygon at 0x7fb70ed911d0>,\n",
       " <flopy.utils.geometry.Polygon at 0x7fb70ed91e90>,\n",
       " <flopy.utils.geometry.Polygon at 0x7fb70ed91d90>,\n",
       " <flopy.utils.geometry.Polygon at 0x7fb712b13290>,\n",
       " <flopy.utils.geometry.Polygon at 0x7fb7111c6f50>,\n",
       " <flopy.utils.geometry.Polygon at 0x7fb70ed91dd0>,\n",
       " <flopy.utils.geometry.Polygon at 0x7fb70ef79e50>,\n",
       " <flopy.utils.geometry.Polygon at 0x7fb70ef79b10>,\n",
       " <flopy.utils.geometry.Polygon at 0x7fb70ef79c10>]"
      ]
     },
     "execution_count": 18,
     "metadata": {},
     "output_type": "execute_result"
    }
   ],
   "source": [
    "from flopy.utils.geometry import Polygon\n",
    "\n",
    "vertices = []\n",
    "for row, col in zip(spd.i, spd.j):\n",
    "    vertices.append(grid.get_cell_vertices(row, col))\n",
    "polygons = [Polygon(vrt) for vrt in vertices]\n",
    "polygons"
   ]
  },
  {
   "cell_type": "markdown",
   "metadata": {},
   "source": [
    "##### write the shapefile"
   ]
  },
  {
   "cell_type": "code",
   "execution_count": 19,
   "metadata": {
    "execution": {
     "iopub.execute_input": "2022-12-15T10:33:02.193383Z",
     "iopub.status.busy": "2022-12-15T10:33:02.192814Z",
     "iopub.status.idle": "2022-12-15T10:33:02.209162Z",
     "shell.execute_reply": "2022-12-15T10:33:02.208232Z"
    }
   },
   "outputs": [
    {
     "name": "stdout",
     "output_type": "stream",
     "text": [
      "wrote /tmp/tmplxpg87yc/shapefile_export/bcs.shp\n"
     ]
    }
   ],
   "source": [
    "fname = \"{}/bcs.shp\".format(outdir)\n",
    "recarray2shp(spd.to_records(), geoms=polygons, shpname=fname, epsg=grid.epsg)"
   ]
  },
  {
   "cell_type": "code",
   "execution_count": 20,
   "metadata": {
    "execution": {
     "iopub.execute_input": "2022-12-15T10:33:02.213088Z",
     "iopub.status.busy": "2022-12-15T10:33:02.212611Z",
     "iopub.status.idle": "2022-12-15T10:33:02.361827Z",
     "shell.execute_reply": "2022-12-15T10:33:02.360991Z"
    }
   },
   "outputs": [
    {
     "data": {
      "image/png": "[encoded data removed]",
      "text/plain": [
       "<Figure size 640x480 with 1 Axes>"
      ]
     },
     "metadata": {},
     "output_type": "display_data"
    }
   ],
   "source": [
    "ax = plt.subplot(1, 1, 1, aspect=\"equal\")\n",
    "extents = grid.extent\n",
    "pc = flopy.plot.plot_shapefile(fname, ax=ax)\n",
    "ax.set_xlim(extents[0], extents[1])\n",
    "ax.set_ylim(extents[2], extents[3])\n",
    "ax.set_title(fname);"
   ]
  },
  {
   "cell_type": "markdown",
   "metadata": {},
   "source": [
    "### exporting other data\n",
    "Suppose we have some well data with actual locations that we want to export to a shapefile"
   ]
  },
  {
   "cell_type": "code",
   "execution_count": 21,
   "metadata": {
    "execution": {
     "iopub.execute_input": "2022-12-15T10:33:02.366248Z",
     "iopub.status.busy": "2022-12-15T10:33:02.365315Z",
     "iopub.status.idle": "2022-12-15T10:33:02.382323Z",
     "shell.execute_reply": "2022-12-15T10:33:02.381538Z"
    }
   },
   "outputs": [
    {
     "data": {
      "text/html": [
       "<div>\n",
       "<style scoped>\n",
       "    .dataframe tbody tr th:only-of-type {\n",
       "        vertical-align: middle;\n",
       "    }\n",
       "\n",
       "    .dataframe tbody tr th {\n",
       "        vertical-align: top;\n",
       "    }\n",
       "\n",
       "    .dataframe thead th {\n",
       "        text-align: right;\n",
       "    }\n",
       "</style>\n",
       "<table border=\"1\" class=\"dataframe\">\n",
       "  <thead>\n",
       "    <tr style=\"text-align: right;\">\n",
       "      <th></th>\n",
       "      <th>wellID</th>\n",
       "      <th>q</th>\n",
       "      <th>x_utm</th>\n",
       "      <th>y_utm</th>\n",
       "    </tr>\n",
       "  </thead>\n",
       "  <tbody>\n",
       "    <tr>\n",
       "      <th>0</th>\n",
       "      <td>0</td>\n",
       "      <td>-888.824576</td>\n",
       "      <td>273558.438815</td>\n",
       "      <td>5.093859e+06</td>\n",
       "    </tr>\n",
       "    <tr>\n",
       "      <th>1</th>\n",
       "      <td>1</td>\n",
       "      <td>-947.489585</td>\n",
       "      <td>275175.429169</td>\n",
       "      <td>5.092648e+06</td>\n",
       "    </tr>\n",
       "    <tr>\n",
       "      <th>2</th>\n",
       "      <td>2</td>\n",
       "      <td>-1174.942269</td>\n",
       "      <td>277269.515921</td>\n",
       "      <td>5.097849e+06</td>\n",
       "    </tr>\n",
       "    <tr>\n",
       "      <th>3</th>\n",
       "      <td>3</td>\n",
       "      <td>-1036.135710</td>\n",
       "      <td>275481.112401</td>\n",
       "      <td>5.098073e+06</td>\n",
       "    </tr>\n",
       "    <tr>\n",
       "      <th>4</th>\n",
       "      <td>4</td>\n",
       "      <td>-955.943050</td>\n",
       "      <td>275141.067792</td>\n",
       "      <td>5.090831e+06</td>\n",
       "    </tr>\n",
       "  </tbody>\n",
       "</table>\n",
       "</div>"
      ],
      "text/plain": [
       "   wellID            q          x_utm         y_utm\n",
       "0       0  -888.824576  273558.438815  5.093859e+06\n",
       "1       1  -947.489585  275175.429169  5.092648e+06\n",
       "2       2 -1174.942269  277269.515921  5.097849e+06\n",
       "3       3 -1036.135710  275481.112401  5.098073e+06\n",
       "4       4  -955.943050  275141.067792  5.090831e+06"
      ]
     },
     "execution_count": 21,
     "metadata": {},
     "output_type": "execute_result"
    }
   ],
   "source": [
    "welldata = pd.DataFrame(\n",
    "    {\n",
    "        \"wellID\": np.arange(0, 10),\n",
    "        \"q\": np.random.randn(10) * 100 - 1000,\n",
    "        \"x_utm\": np.random.rand(10) * 5000 + grid.xoffset,\n",
    "        \"y_utm\": grid.yoffset + np.random.rand(10) * 10000,\n",
    "    }\n",
    ")\n",
    "welldata.head()"
   ]
  },
  {
   "cell_type": "markdown",
   "metadata": {},
   "source": [
    "##### convert the x, y coorindates to point features and then export"
   ]
  },
  {
   "cell_type": "code",
   "execution_count": 22,
   "metadata": {
    "execution": {
     "iopub.execute_input": "2022-12-15T10:33:02.386627Z",
     "iopub.status.busy": "2022-12-15T10:33:02.385828Z",
     "iopub.status.idle": "2022-12-15T10:33:02.396276Z",
     "shell.execute_reply": "2022-12-15T10:33:02.395542Z"
    }
   },
   "outputs": [
    {
     "name": "stdout",
     "output_type": "stream",
     "text": [
      "wrote /tmp/tmplxpg87yc/shapefile_export/wel_data.shp\n"
     ]
    }
   ],
   "source": [
    "from flopy.utils.geometry import Point\n",
    "\n",
    "geoms = [Point(x, y) for x, y in zip(welldata.x_utm, welldata.y_utm)]\n",
    "\n",
    "fname = \"{}/wel_data.shp\".format(outdir)\n",
    "recarray2shp(welldata.to_records(), geoms=geoms, shpname=fname, epsg=grid.epsg)"
   ]
  },
  {
   "cell_type": "code",
   "execution_count": 23,
   "metadata": {
    "execution": {
     "iopub.execute_input": "2022-12-15T10:33:02.400339Z",
     "iopub.status.busy": "2022-12-15T10:33:02.399624Z",
     "iopub.status.idle": "2022-12-15T10:33:02.540079Z",
     "shell.execute_reply": "2022-12-15T10:33:02.539253Z"
    }
   },
   "outputs": [
    {
     "data": {
      "image/png": "[encoded data removed]",
      "text/plain": [
       "<Figure size 640x480 with 1 Axes>"
      ]
     },
     "metadata": {},
     "output_type": "display_data"
    }
   ],
   "source": [
    "ax = plt.subplot(1, 1, 1, aspect=\"equal\")\n",
    "extents = grid.extent\n",
    "pc = flopy.plot.plot_shapefile(fname, ax=ax, radius=100)\n",
    "ax.set_xlim(extents[0], extents[1])\n",
    "ax.set_ylim(extents[2], extents[3])\n",
    "ax.set_title(fname);"
   ]
  },
  {
   "cell_type": "markdown",
   "metadata": {},
   "source": [
    "### Adding attribute data to an existing shapefile\n",
    "Suppose we have a GIS coverage representing the river in the riv package"
   ]
  },
  {
   "cell_type": "code",
   "execution_count": 24,
   "metadata": {
    "execution": {
     "iopub.execute_input": "2022-12-15T10:33:02.544105Z",
     "iopub.status.busy": "2022-12-15T10:33:02.543720Z",
     "iopub.status.idle": "2022-12-15T10:33:02.565147Z",
     "shell.execute_reply": "2022-12-15T10:33:02.563743Z"
    }
   },
   "outputs": [
    {
     "name": "stdout",
     "output_type": "stream",
     "text": [
      "wrote /tmp/tmplxpg87yc/shapefile_export/riv_reaches.shp\n"
     ]
    }
   ],
   "source": [
    "from flopy.utils.geometry import LineString\n",
    "\n",
    "### make up a linestring shapefile of the river reaches\n",
    "i, j = m.riv.stress_period_data[0].i, m.riv.stress_period_data[0].j\n",
    "x0 = grid.xyzcellcenters[0][i[0], j[0]]\n",
    "x1 = grid.xyzcellcenters[0][i[-1], j[-1]]\n",
    "y0 = grid.xyzcellcenters[1][i[0], j[0]]\n",
    "y1 = grid.xyzcellcenters[1][i[-1], j[-1]]\n",
    "x = np.linspace(x0, x1, m.nrow + 1)\n",
    "y = np.linspace(y0, y1, m.nrow + 1)\n",
    "l0 = zip(list(zip(x[:-1], y[:-1])), list(zip(x[1:], y[1:])))\n",
    "lines = [LineString(l) for l in l0]\n",
    "\n",
    "rivdata = pd.DataFrame(m.riv.stress_period_data[0])\n",
    "rivdata[\"reach\"] = np.arange(len(lines))\n",
    "lines_shapefile = \"{}/riv_reaches.shp\".format(outdir)\n",
    "recarray2shp(\n",
    "    rivdata.to_records(index=False),\n",
    "    geoms=lines,\n",
    "    shpname=lines_shapefile,\n",
    "    epsg=grid.epsg,\n",
    ")"
   ]
  },
  {
   "cell_type": "code",
   "execution_count": 25,
   "metadata": {
    "execution": {
     "iopub.execute_input": "2022-12-15T10:33:02.569245Z",
     "iopub.status.busy": "2022-12-15T10:33:02.568677Z",
     "iopub.status.idle": "2022-12-15T10:33:02.721147Z",
     "shell.execute_reply": "2022-12-15T10:33:02.720247Z"
    }
   },
   "outputs": [
    {
     "data": {
      "image/png": "[encoded data removed]",
      "text/plain": [
       "<Figure size 640x480 with 1 Axes>"
      ]
     },
     "metadata": {},
     "output_type": "display_data"
    }
   ],
   "source": [
    "ax = plt.subplot(1, 1, 1, aspect=\"equal\")\n",
    "extents = grid.extent\n",
    "pc = flopy.plot.plot_shapefile(lines_shapefile, ax=ax, radius=25)\n",
    "ax.set_xlim(extents[0], extents[1])\n",
    "ax.set_ylim(extents[2], extents[3])\n",
    "ax.set_title(lines_shapefile);"
   ]
  },
  {
   "cell_type": "markdown",
   "metadata": {},
   "source": [
    "#### read in the GIS coverage using `shp2recarray`\n",
    "`shp2recarray` reads a shapefile into a numpy record array, which can easily be converted to a DataFrame"
   ]
  },
  {
   "cell_type": "code",
   "execution_count": 26,
   "metadata": {
    "execution": {
     "iopub.execute_input": "2022-12-15T10:33:02.725183Z",
     "iopub.status.busy": "2022-12-15T10:33:02.724539Z",
     "iopub.status.idle": "2022-12-15T10:33:02.729406Z",
     "shell.execute_reply": "2022-12-15T10:33:02.728506Z"
    }
   },
   "outputs": [],
   "source": [
    "from flopy.export.shapefile_utils import shp2recarray"
   ]
  },
  {
   "cell_type": "code",
   "execution_count": 27,
   "metadata": {
    "execution": {
     "iopub.execute_input": "2022-12-15T10:33:02.733469Z",
     "iopub.status.busy": "2022-12-15T10:33:02.732912Z",
     "iopub.status.idle": "2022-12-15T10:33:02.753479Z",
     "shell.execute_reply": "2022-12-15T10:33:02.752700Z"
    }
   },
   "outputs": [
    {
     "data": {
      "text/html": [
       "<div>\n",
       "<style scoped>\n",
       "    .dataframe tbody tr th:only-of-type {\n",
       "        vertical-align: middle;\n",
       "    }\n",
       "\n",
       "    .dataframe tbody tr th {\n",
       "        vertical-align: top;\n",
       "    }\n",
       "\n",
       "    .dataframe thead th {\n",
       "        text-align: right;\n",
       "    }\n",
       "</style>\n",
       "<table border=\"1\" class=\"dataframe\">\n",
       "  <thead>\n",
       "    <tr style=\"text-align: right;\">\n",
       "      <th></th>\n",
       "      <th>k</th>\n",
       "      <th>i</th>\n",
       "      <th>j</th>\n",
       "      <th>stage</th>\n",
       "      <th>cond</th>\n",
       "      <th>rbot</th>\n",
       "      <th>iface</th>\n",
       "      <th>reach</th>\n",
       "      <th>geometry</th>\n",
       "    </tr>\n",
       "  </thead>\n",
       "  <tbody>\n",
       "    <tr>\n",
       "      <th>0</th>\n",
       "      <td>0</td>\n",
       "      <td>0</td>\n",
       "      <td>14</td>\n",
       "      <td>20.100000</td>\n",
       "      <td>0.05</td>\n",
       "      <td>20.00</td>\n",
       "      <td>0.0</td>\n",
       "      <td>0</td>\n",
       "      <td>&lt;flopy.utils.geometry.LineString object at 0x7...</td>\n",
       "    </tr>\n",
       "    <tr>\n",
       "      <th>1</th>\n",
       "      <td>0</td>\n",
       "      <td>1</td>\n",
       "      <td>14</td>\n",
       "      <td>19.870001</td>\n",
       "      <td>0.05</td>\n",
       "      <td>19.75</td>\n",
       "      <td>0.0</td>\n",
       "      <td>1</td>\n",
       "      <td>&lt;flopy.utils.geometry.LineString object at 0x7...</td>\n",
       "    </tr>\n",
       "    <tr>\n",
       "      <th>2</th>\n",
       "      <td>0</td>\n",
       "      <td>2</td>\n",
       "      <td>14</td>\n",
       "      <td>19.650000</td>\n",
       "      <td>0.05</td>\n",
       "      <td>19.50</td>\n",
       "      <td>0.0</td>\n",
       "      <td>2</td>\n",
       "      <td>&lt;flopy.utils.geometry.LineString object at 0x7...</td>\n",
       "    </tr>\n",
       "    <tr>\n",
       "      <th>3</th>\n",
       "      <td>0</td>\n",
       "      <td>3</td>\n",
       "      <td>14</td>\n",
       "      <td>19.420000</td>\n",
       "      <td>0.05</td>\n",
       "      <td>19.25</td>\n",
       "      <td>0.0</td>\n",
       "      <td>3</td>\n",
       "      <td>&lt;flopy.utils.geometry.LineString object at 0x7...</td>\n",
       "    </tr>\n",
       "    <tr>\n",
       "      <th>4</th>\n",
       "      <td>0</td>\n",
       "      <td>4</td>\n",
       "      <td>14</td>\n",
       "      <td>19.190001</td>\n",
       "      <td>0.05</td>\n",
       "      <td>19.00</td>\n",
       "      <td>0.0</td>\n",
       "      <td>4</td>\n",
       "      <td>&lt;flopy.utils.geometry.LineString object at 0x7...</td>\n",
       "    </tr>\n",
       "  </tbody>\n",
       "</table>\n",
       "</div>"
      ],
      "text/plain": [
       "   k  i   j      stage  cond   rbot  iface  reach  \\\n",
       "0  0  0  14  20.100000  0.05  20.00    0.0      0   \n",
       "1  0  1  14  19.870001  0.05  19.75    0.0      1   \n",
       "2  0  2  14  19.650000  0.05  19.50    0.0      2   \n",
       "3  0  3  14  19.420000  0.05  19.25    0.0      3   \n",
       "4  0  4  14  19.190001  0.05  19.00    0.0      4   \n",
       "\n",
       "                                            geometry  \n",
       "0  <flopy.utils.geometry.LineString object at 0x7...  \n",
       "1  <flopy.utils.geometry.LineString object at 0x7...  \n",
       "2  <flopy.utils.geometry.LineString object at 0x7...  \n",
       "3  <flopy.utils.geometry.LineString object at 0x7...  \n",
       "4  <flopy.utils.geometry.LineString object at 0x7...  "
      ]
     },
     "execution_count": 27,
     "metadata": {},
     "output_type": "execute_result"
    }
   ],
   "source": [
    "linesdata = shp2recarray(lines_shapefile)\n",
    "linesdata = pd.DataFrame(linesdata)\n",
    "linesdata.head()"
   ]
  },
  {
   "cell_type": "markdown",
   "metadata": {},
   "source": [
    "##### Suppose we have some flow information that we read in from the cell budget file"
   ]
  },
  {
   "cell_type": "code",
   "execution_count": 28,
   "metadata": {
    "execution": {
     "iopub.execute_input": "2022-12-15T10:33:02.757652Z",
     "iopub.status.busy": "2022-12-15T10:33:02.756934Z",
     "iopub.status.idle": "2022-12-15T10:33:02.764431Z",
     "shell.execute_reply": "2022-12-15T10:33:02.762945Z"
    }
   },
   "outputs": [
    {
     "data": {
      "text/plain": [
       "array([ 0.46273472,  1.53559083,  0.78609207, -0.1492661 ,  0.71060968,\n",
       "        0.64880462, -0.067288  ,  2.9024868 ,  0.89879581,  0.37230957,\n",
       "        0.6971414 ,  2.20440492,  0.31608058, -0.66167419,  1.15829141,\n",
       "        2.11875008,  1.06136846,  0.37487753,  0.89138223, -0.50267451,\n",
       "       -0.30254403, -0.34093957,  4.07434331, -0.25633615,  1.54631747,\n",
       "        1.70305027,  1.91807178,  0.50482321,  2.1378394 ,  0.58052127,\n",
       "        2.37042133,  0.87135577,  1.63656321, -1.06951057,  1.86623837,\n",
       "        1.39580034,  0.31273534,  0.72191784,  0.75449303,  2.92629923])"
      ]
     },
     "execution_count": 28,
     "metadata": {},
     "output_type": "execute_result"
    }
   ],
   "source": [
    "# make up some fluxes between the river and aquifer at each reach\n",
    "q = np.random.randn(len(linesdata)) + 1\n",
    "q"
   ]
  },
  {
   "cell_type": "markdown",
   "metadata": {},
   "source": [
    "##### Add reachs fluxes and cumulative flow to lines DataFrame"
   ]
  },
  {
   "cell_type": "code",
   "execution_count": 29,
   "metadata": {
    "execution": {
     "iopub.execute_input": "2022-12-15T10:33:02.770092Z",
     "iopub.status.busy": "2022-12-15T10:33:02.768454Z",
     "iopub.status.idle": "2022-12-15T10:33:02.776033Z",
     "shell.execute_reply": "2022-12-15T10:33:02.775282Z"
    }
   },
   "outputs": [],
   "source": [
    "linesdata[\"qreach\"] = q\n",
    "linesdata[\"qstream\"] = np.cumsum(q)"
   ]
  },
  {
   "cell_type": "code",
   "execution_count": 30,
   "metadata": {
    "execution": {
     "iopub.execute_input": "2022-12-15T10:33:02.779994Z",
     "iopub.status.busy": "2022-12-15T10:33:02.779479Z",
     "iopub.status.idle": "2022-12-15T10:33:02.794368Z",
     "shell.execute_reply": "2022-12-15T10:33:02.793420Z"
    }
   },
   "outputs": [
    {
     "name": "stdout",
     "output_type": "stream",
     "text": [
      "wrote /tmp/tmplxpg87yc/shapefile_export/riv_reaches.shp\n"
     ]
    }
   ],
   "source": [
    "recarray2shp(\n",
    "    linesdata.drop(\"geometry\", axis=1).to_records(),\n",
    "    geoms=linesdata.geometry.values,\n",
    "    shpname=lines_shapefile,\n",
    "    epsg=grid.epsg,\n",
    ")"
   ]
  },
  {
   "cell_type": "code",
   "execution_count": 31,
   "metadata": {
    "execution": {
     "iopub.execute_input": "2022-12-15T10:33:02.798006Z",
     "iopub.status.busy": "2022-12-15T10:33:02.797556Z",
     "iopub.status.idle": "2022-12-15T10:33:02.945727Z",
     "shell.execute_reply": "2022-12-15T10:33:02.944812Z"
    }
   },
   "outputs": [
    {
     "data": {
      "image/png": "[encoded data removed]",
      "text/plain": [
       "<Figure size 640x480 with 1 Axes>"
      ]
     },
     "metadata": {},
     "output_type": "display_data"
    }
   ],
   "source": [
    "ax = plt.subplot(1, 1, 1, aspect=\"equal\")\n",
    "extents = grid.extent\n",
    "pc = flopy.plot.plot_shapefile(lines_shapefile, ax=ax, radius=25)\n",
    "ax.set_xlim(extents[0], extents[1])\n",
    "ax.set_ylim(extents[2], extents[3])\n",
    "ax.set_title(lines_shapefile);"
   ]
  },
  {
   "cell_type": "markdown",
   "metadata": {},
   "source": [
    "## Overriding the model's modelgrid with a user supplied modelgrid\n",
    "\n",
    "In some cases it may be necessary to override the model's modelgrid instance with a seperate modelgrid. An example of this is if the model discretization is in feet and the user would like it projected in meters. Exporting can be accomplished by supplying a modelgrid as a `kwarg` in any of the `export()` methods within flopy. Below is an example:"
   ]
  },
  {
   "cell_type": "code",
   "execution_count": 32,
   "metadata": {
    "execution": {
     "iopub.execute_input": "2022-12-15T10:33:02.950113Z",
     "iopub.status.busy": "2022-12-15T10:33:02.949389Z",
     "iopub.status.idle": "2022-12-15T10:33:03.180334Z",
     "shell.execute_reply": "2022-12-15T10:33:03.179228Z"
    }
   },
   "outputs": [
    {
     "name": "stdout",
     "output_type": "stream",
     "text": [
      "wrote /tmp/tmplxpg87yc/shapefile_export/freyberg.shp\n"
     ]
    },
    {
     "data": {
      "text/plain": [
       "'/tmp/tmplxpg87yc/shapefile_export/freyberg.shp'"
      ]
     },
     "execution_count": 32,
     "metadata": {},
     "output_type": "execute_result"
    }
   ],
   "source": [
    "mg0 = m.modelgrid\n",
    "\n",
    "# build a new modelgrid instance with discretization in meters\n",
    "modelgrid = flopy.discretization.StructuredGrid(\n",
    "    delc=mg0.delc * 0.3048,\n",
    "    delr=mg0.delr * 0.3048,\n",
    "    top=mg0.top,\n",
    "    botm=mg0.botm,\n",
    "    idomain=mg0.idomain,\n",
    "    xoff=mg0.xoffset * 0.3048,\n",
    "    yoff=mg0.yoffset * 0.3048,\n",
    ")\n",
    "\n",
    "# exporting an entire model\n",
    "m.export(\"{}/freyberg.shp\".format(outdir), modelgrid=modelgrid)"
   ]
  },
  {
   "cell_type": "markdown",
   "metadata": {},
   "source": [
    "And for a specific parameter the method is the same"
   ]
  },
  {
   "cell_type": "code",
   "execution_count": 33,
   "metadata": {
    "execution": {
     "iopub.execute_input": "2022-12-15T10:33:03.184700Z",
     "iopub.status.busy": "2022-12-15T10:33:03.183993Z",
     "iopub.status.idle": "2022-12-15T10:33:03.262020Z",
     "shell.execute_reply": "2022-12-15T10:33:03.260992Z"
    }
   },
   "outputs": [
    {
     "name": "stdout",
     "output_type": "stream",
     "text": [
      "wrote /tmp/tmplxpg87yc/shapefile_export/hk.shp\n"
     ]
    }
   ],
   "source": [
    "fname = \"{}/hk.shp\".format(outdir)\n",
    "m.lpf.hk.export(fname, modelgrid=modelgrid)"
   ]
  },
  {
   "cell_type": "code",
   "execution_count": 34,
   "metadata": {
    "execution": {
     "iopub.execute_input": "2022-12-15T10:33:03.266929Z",
     "iopub.status.busy": "2022-12-15T10:33:03.266131Z",
     "iopub.status.idle": "2022-12-15T10:33:03.578901Z",
     "shell.execute_reply": "2022-12-15T10:33:03.577950Z"
    }
   },
   "outputs": [
    {
     "data": {
      "image/png": "[encoded data removed]",
      "text/plain": [
       "<Figure size 640x480 with 1 Axes>"
      ]
     },
     "metadata": {},
     "output_type": "display_data"
    }
   ],
   "source": [
    "ax = plt.subplot(1, 1, 1, aspect=\"equal\")\n",
    "extents = modelgrid.extent\n",
    "a = m.lpf.hk.array.ravel()\n",
    "pc = flopy.plot.plot_shapefile(fname, ax=ax, a=a)\n",
    "ax.set_xlim(extents[0], extents[1])\n",
    "ax.set_ylim(extents[2], extents[3])\n",
    "ax.set_title(fname);"
   ]
  },
  {
   "cell_type": "code",
   "execution_count": 35,
   "metadata": {
    "execution": {
     "iopub.execute_input": "2022-12-15T10:33:03.583635Z",
     "iopub.status.busy": "2022-12-15T10:33:03.583295Z",
     "iopub.status.idle": "2022-12-15T10:33:03.589945Z",
     "shell.execute_reply": "2022-12-15T10:33:03.589107Z"
    }
   },
   "outputs": [],
   "source": [
    "try:\n",
    "    # ignore PermissionError on Windows\n",
    "    temp_dir.cleanup()\n",
    "except:\n",
    "    pass\n"
   ]
  }
 ],
 "metadata": {
  "kernelspec": {
   "display_name": "Python 3",
   "language": "python",
   "name": "python3"
  },
  "language_info": {
   "codemirror_mode": {
    "name": "ipython",
    "version": 3
   },
   "file_extension": ".py",
   "mimetype": "text/x-python",
   "name": "python",
   "nbconvert_exporter": "python",
   "pygments_lexer": "ipython3",
   "version": "3.7.15"
  }
 },
 "nbformat": 4,
 "nbformat_minor": 4
}
