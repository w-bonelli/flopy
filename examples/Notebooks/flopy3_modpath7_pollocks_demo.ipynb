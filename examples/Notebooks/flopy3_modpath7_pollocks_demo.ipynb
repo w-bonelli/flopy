{
 "cells": [
  {
   "cell_type": "markdown",
   "source": [
    "# MODPATH 7 Pollock's method demonstration\n",
    "\n",
    "This notebook reproduces Pollock's structured grid particle tracking algorithm in Python. Results are compared with MODPATH 7 to demonstrate agreement on the Freyberg example model.\n",
    "\n",
    "## Overview\n",
    "\n",
    "[Pollock's method](https://www.usgs.gov/software/modpath-particle-tracking-model-modflow) is the core of MODPATH 6 and 7. Given flows between cell faces pre-computed by a groundwater flow model, Pollock's method interpolates velocity vectors linearly between faces and solves analytically for the time and location a particle exits a given cell. The algorithm iterates until all particles reach a termination location or a maximum time limit is reached. See the MODPATH 7 documentation (available at the link above) for more information.\n",
    "\n",
    "First, import flopy and create a temporary working directory."
   ],
   "metadata": {
    "collapsed": false
   }
  },
  {
   "cell_type": "code",
   "execution_count": null,
   "outputs": [],
   "source": [
    "import sys\n",
    "import os\n",
    "from tempfile import TemporaryDirectory\n",
    "\n",
    "import numpy as np\n",
    "import matplotlib as mpl\n",
    "import matplotlib.pyplot as plt\n",
    "\n",
    "# run installed version of flopy or add local path\n",
    "try:\n",
    "    import flopy\n",
    "except:\n",
    "    fpth = os.path.abspath(os.path.join(\"..\", \"..\"))\n",
    "    sys.path.append(fpth)\n",
    "    import flopy\n",
    "\n",
    "print(sys.version)\n",
    "print(\"numpy version: {}\".format(np.__version__))\n",
    "print(\"matplotlib version: {}\".format(mpl.__version__))\n",
    "print(\"flopy version: {}\".format(flopy.__version__))\n",
    "\n",
    "# temporary directory\n",
    "temp_dir = TemporaryDirectory()\n",
    "model_ws = temp_dir.name"
   ],
   "metadata": {
    "collapsed": false
   }
  },
  {
   "cell_type": "markdown",
   "source": [
    "First we load and run the Freyberg model with MODFLOW 6, then run MODPATH 7 for a small number of particles and examine results."
   ],
   "metadata": {
    "collapsed": false
   }
  },
  {
   "cell_type": "code",
   "execution_count": null,
   "outputs": [],
   "source": [],
   "metadata": {
    "collapsed": false
   }
  },
  {
   "cell_type": "markdown",
   "source": [
    "Next we implement Pollock's method in Python for single-layered structured grids, ignoring the possibility of vertical movement for the sake of simplicity."
   ],
   "metadata": {
    "collapsed": false
   }
  },
  {
   "cell_type": "code",
   "execution_count": null,
   "outputs": [],
   "source": [],
   "metadata": {
    "collapsed": false
   }
  },
  {
   "cell_type": "markdown",
   "source": [
    "Finally we compare results from Python and MODPATH 7 to demonstrate agreement."
   ],
   "metadata": {
    "collapsed": false
   }
  },
  {
   "cell_type": "code",
   "execution_count": null,
   "outputs": [],
   "source": [],
   "metadata": {
    "collapsed": false
   }
  },
  {
   "cell_type": "markdown",
   "source": [],
   "metadata": {
    "collapsed": false
   }
  }
 ],
 "metadata": {
  "kernelspec": {
   "display_name": "Python 3",
   "language": "python",
   "name": "python3"
  },
  "language_info": {
   "codemirror_mode": {
    "name": "ipython",
    "version": 2
   },
   "file_extension": ".py",
   "mimetype": "text/x-python",
   "name": "python",
   "nbconvert_exporter": "python",
   "pygments_lexer": "ipython2",
   "version": "2.7.6"
  }
 },
 "nbformat": 4,
 "nbformat_minor": 0
}
