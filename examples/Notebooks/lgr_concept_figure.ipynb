{
 "cells": [
  {
   "cell_type": "code",
   "execution_count": 1,
   "id": "4e776d2f-02a1-4a28-99fc-11799f8e2650",
   "metadata": {},
   "outputs": [],
   "source": [
    "import pathlib as pl\n",
    "import numpy as np\n",
    "import matplotlib.pyplot as plt\n",
    "\n",
    "from affine import Affine\n",
    "import rasterio as rio\n",
    "from rasterio.plot import show\n",
    "\n",
    "import flopy"
   ]
  },
  {
   "cell_type": "code",
   "execution_count": 2,
   "id": "549bf705-4dfd-4f52-876e-307a96522c82",
   "metadata": {},
   "outputs": [],
   "source": [
    "path = pl.Path(\"../data/lgr_concept/lgr_top.tif\")\n"
   ]
  },
  {
   "cell_type": "code",
   "execution_count": 3,
   "id": "45df74a5-c661-46b5-8a6e-eca0688339c7",
   "metadata": {},
   "outputs": [
    {
     "data": {
      "text/plain": "((0.0, 30000.0, 0.0, 30000.0), (1, 2, 3, 4))"
     },
     "execution_count": 3,
     "metadata": {},
     "output_type": "execute_result"
    }
   ],
   "source": [
    "src = flopy.utils.Raster.load(path)\n",
    "src.bounds, src.bands"
   ]
  },
  {
   "cell_type": "code",
   "execution_count": 4,
   "id": "250b6b94-c878-4288-9f33-11d4d8088e33",
   "metadata": {},
   "outputs": [],
   "source": [
    "top = src.get_array(1)\n",
    "botm = [\n",
    "    src.get_array(2),\n",
    "    src.get_array(3),\n",
    "    src.get_array(4),\n",
    "]\n",
    "    "
   ]
  },
  {
   "cell_type": "markdown",
   "id": "eadc00f9-84a2-4e93-9875-912c5ff6a9d4",
   "metadata": {},
   "source": [
    "#### Parent grid"
   ]
  },
  {
   "cell_type": "code",
   "execution_count": 5,
   "id": "c8987985-49a8-4533-b15a-ef205847f1a7",
   "metadata": {},
   "outputs": [],
   "source": [
    "lx = ly = 30000.\n",
    "nlay, nrow, ncol = 3, 30, 30\n",
    "shape2d_pg = (nrow, ncol)\n",
    "shape3d_pg = (nlay, nrow, ncol)\n",
    "dx, dy = float(lx / ncol), float(ly / nrow)\n",
    "delr = np.full(ncol, dx, dtype=float)\n",
    "delc = np.full(nrow, dy, dtype=float)\n",
    "top_pg = np.ones(shape2d_pg, dtype=float)\n",
    "botm_pg = np.ones(shape3d_pg, dtype=float)\n",
    "for k in range(nlay):\n",
    "    botm_pg[k] = -k"
   ]
  },
  {
   "cell_type": "code",
   "execution_count": 6,
   "id": "34d28d2b-4cc5-4e3c-869e-134336cd204d",
   "metadata": {},
   "outputs": [],
   "source": [
    "parent_grid = flopy.discretization.StructuredGrid(delc=delc, delr=delr, nlay=nlay, top=top_pg, botm=botm_pg)"
   ]
  },
  {
   "cell_type": "code",
   "execution_count": 7,
   "id": "b7e566c3-3c67-4c2f-965a-756464c01028",
   "metadata": {},
   "outputs": [],
   "source": [
    "top_pg = src.resample_to_grid(\n",
    "    parent_grid,\n",
    "    band=src.bands[0],\n",
    "    method=\"linear\",\n",
    "    extrapolate_edges=True,\n",
    ")\n",
    "for k in range(nlay):\n",
    "    botm_pg[k] = src.resample_to_grid(\n",
    "        parent_grid,\n",
    "        band=src.bands[k + 1],\n",
    "        method=\"linear\",\n",
    "        extrapolate_edges=True,\n",
    "    )"
   ]
  },
  {
   "cell_type": "code",
   "execution_count": 8,
   "id": "da38d0ef-bacf-4ddc-b976-f416251cbc17",
   "metadata": {},
   "outputs": [
    {
     "data": {
      "text/plain": "(5.680462984135779, 13.280876414349338)"
     },
     "execution_count": 8,
     "metadata": {},
     "output_type": "execute_result"
    }
   ],
   "source": [
    "top_pg.min(), top_pg.max()"
   ]
  },
  {
   "cell_type": "markdown",
   "id": "c0e56812-2a2e-4044-a636-5d0b0ed60eae",
   "metadata": {},
   "source": [
    "##### Create idomain for coarse grid"
   ]
  },
  {
   "cell_type": "code",
   "execution_count": 9,
   "id": "2e83bdb9-b6ba-4536-9417-cc2b7a8a3cd1",
   "metadata": {},
   "outputs": [],
   "source": [
    "idomain_pg = np.ones(shape3d_pg, dtype=int)\n",
    "idomain_pg[:2, 5:15, 5:15] = 0\n",
    "idomain_pg[:, 20:26, 20:26] = 0"
   ]
  },
  {
   "cell_type": "code",
   "execution_count": 10,
   "id": "4bca2b40-58b7-4f8b-aa06-a7700c319760",
   "metadata": {},
   "outputs": [],
   "source": [
    "# redefine the grid with the updated top and botm\n",
    "parent_grid = flopy.discretization.StructuredGrid(delc=delc, delr=delr, nlay=nlay, top=top_pg, botm=botm_pg, idomain=idomain_pg)"
   ]
  },
  {
   "cell_type": "code",
   "execution_count": 11,
   "id": "852977d6-3128-48cf-b540-c0fe56cecfc3",
   "metadata": {},
   "outputs": [
    {
     "data": {
      "text/plain": "<matplotlib.collections.LineCollection at 0x12f01e140>"
     },
     "execution_count": 11,
     "metadata": {},
     "output_type": "execute_result"
    },
    {
     "data": {
      "text/plain": "<Figure size 432x288 with 1 Axes>",
      "image/png": "[encoded data removed]"
     },
     "metadata": {
      "needs_background": "light"
     },
     "output_type": "display_data"
    }
   ],
   "source": [
    "parent_grid.plot()"
   ]
  },
  {
   "cell_type": "markdown",
   "id": "3c77b056-583c-46e1-87ee-a20d52a8b8cb",
   "metadata": {},
   "source": [
    "##### Export coarse grid so it can be used to define the bottom of child 0 and grandchild 0"
   ]
  },
  {
   "cell_type": "code",
   "execution_count": 12,
   "id": "08585d7d-8e0d-424e-9119-b81e8746dac1",
   "metadata": {},
   "outputs": [
    {
     "data": {
      "text/plain": "Affine(1000.0, 0.0, 0.0,\n       0.0, -1000.0, 30000.0)"
     },
     "execution_count": 12,
     "metadata": {},
     "output_type": "execute_result"
    }
   ],
   "source": [
    "transform = Affine(dx, 0.0, 0.0, 0.0, -dx, 30000.0)\n",
    "transform"
   ]
  },
  {
   "cell_type": "code",
   "execution_count": 13,
   "id": "c516405f-c56c-4180-a305-9bc9b892a72a",
   "metadata": {},
   "outputs": [],
   "source": [
    "path = pl.Path(\"data/lgr_coarse_data.tif\")\n",
    "with rio.open(path, 'w', driver=\"GTiff\", width=ncol, height=nrow, dtype=rio.float64, count=4, transform=transform) as dst:\n",
    "    dst.write_band(1, top_pg[:, :].astype(rio.float64))\n",
    "    dst.write_band(2, botm_pg[0, :, :].astype(rio.float64))\n",
    "    dst.write_band(3, botm_pg[1, :, :].astype(rio.float64))\n",
    "    dst.write_band(4, botm_pg[2, :, :].astype(rio.float64))"
   ]
  },
  {
   "cell_type": "code",
   "execution_count": 13,
   "id": "21763d97-f288-450e-9b40-0f3bd025b446",
   "metadata": {},
   "outputs": [],
   "source": []
  },
  {
   "cell_type": "code",
   "execution_count": 14,
   "id": "f1bc9bd4-fb6e-4880-98e1-719b67729593",
   "metadata": {},
   "outputs": [
    {
     "data": {
      "text/plain": "((0.0, 30000.0, 0.0, 30000.0), (1, 2, 3, 4))"
     },
     "execution_count": 14,
     "metadata": {},
     "output_type": "execute_result"
    }
   ],
   "source": [
    "src_pg = flopy.utils.Raster.load(path)\n",
    "src_pg.bounds, src_pg.bands"
   ]
  },
  {
   "cell_type": "code",
   "execution_count": 14,
   "id": "2bca7aab-4a0d-4c2c-9ef5-b23320525528",
   "metadata": {},
   "outputs": [],
   "source": []
  },
  {
   "cell_type": "markdown",
   "id": "7a822c93-300e-4531-b256-be0f895f6953",
   "metadata": {},
   "source": [
    "#### Child grid 1"
   ]
  },
  {
   "cell_type": "code",
   "execution_count": 15,
   "id": "de0d910d-eed0-421c-a760-0f4dacd8badb",
   "metadata": {},
   "outputs": [],
   "source": [
    "nlay_c0, ncol_c0, nrow_c0 = 4, 30, 30\n",
    "xoff = 5. * dx\n",
    "yoff = ly - 15. * dy\n",
    "dx_c0, dy_c0 = dx / 3., dy / 3\n",
    "\n",
    "shape2d_c0 = (nrow_c0, ncol_c0)\n",
    "shape3d_c0 = (nlay_c0, nrow_c0, ncol_c0)\n",
    "delr_c0 = np.full(ncol_c0, dx_c0, dtype=float)\n",
    "delc_c0 = np.full(nrow_c0, dy_c0, dtype=float)"
   ]
  },
  {
   "cell_type": "code",
   "execution_count": 16,
   "id": "27ba430e-8592-4011-9111-fbf63866e16f",
   "metadata": {},
   "outputs": [],
   "source": [
    "top_c0 = np.ones(shape2d_c0, dtype=float)\n",
    "botm_c0 = np.ones(shape3d_c0, dtype=float)\n",
    "for k in range(nlay):\n",
    "    botm_c0[k] = -k"
   ]
  },
  {
   "cell_type": "code",
   "execution_count": 17,
   "id": "186bea87-e59d-465c-ace8-21a5827582c8",
   "metadata": {},
   "outputs": [],
   "source": [
    "c0_grid = flopy.discretization.StructuredGrid(delc=delc_c0, delr=delr_c0, nlay=nlay_c0, top=top_c0, botm=botm_c0, xoff=xoff, yoff=yoff)"
   ]
  },
  {
   "cell_type": "code",
   "execution_count": 18,
   "id": "17a86214-777d-46da-8e9b-11c3f53bf5d8",
   "metadata": {},
   "outputs": [],
   "source": [
    "top_c0 = src.resample_to_grid(\n",
    "    c0_grid,\n",
    "    band=src.bands[0],\n",
    "    method=\"linear\",\n",
    "    extrapolate_edges=True,\n",
    ")"
   ]
  },
  {
   "cell_type": "code",
   "execution_count": 19,
   "id": "09a7eb00-980f-41c7-b7b3-4037f23bd0ea",
   "metadata": {},
   "outputs": [],
   "source": [
    "arrays = (src_pg.bands[1], src_pg.bands[2],)\n",
    "layers = (1, 3,)\n",
    "for k, band in zip(layers, arrays):\n",
    "    botm_c0[k] = src_pg.resample_to_grid(\n",
    "        c0_grid,\n",
    "        band=band,\n",
    "        method=\"nearest\",\n",
    "        extrapolate_edges=True,\n",
    "    )\n",
    "for k in layers:\n",
    "    if k == 1:\n",
    "        t = top_c0\n",
    "    else:\n",
    "        t = botm_c0[1]\n",
    "    b = 0.5 * (t - botm_c0[k])\n",
    "    botm_c0[k - 1] = t - b"
   ]
  },
  {
   "cell_type": "markdown",
   "id": "93dcf47d-071a-4c34-8edc-eac11fe3a8c6",
   "metadata": {},
   "source": [
    "##### Create idomain for child grid 1"
   ]
  },
  {
   "cell_type": "code",
   "execution_count": 20,
   "id": "62a3dc62-3cdc-4b89-8247-acae369d26ab",
   "metadata": {},
   "outputs": [],
   "source": [
    "idomain_c0 = np.ones(shape3d_c0, dtype=int)\n",
    "idomain_c0[:2, 5:15, 3:13] = 0"
   ]
  },
  {
   "cell_type": "code",
   "execution_count": 21,
   "id": "b568f7b6-684b-4ded-8fe0-6b0a945b5b28",
   "metadata": {},
   "outputs": [],
   "source": [
    "# redefine the grid with the updated top and botm\n",
    "c0_grid = flopy.discretization.StructuredGrid(delc=delc_c0, delr=delr_c0, nlay=nlay_c0, top=top_c0, botm=botm_c0, xoff=xoff, yoff=yoff, idomain=idomain_c0)"
   ]
  },
  {
   "cell_type": "markdown",
   "id": "98e12dcf-2176-4475-8511-d6d1193926d5",
   "metadata": {},
   "source": [
    "#### Grandchild 0"
   ]
  },
  {
   "cell_type": "code",
   "execution_count": 22,
   "id": "fa2036cb-603d-42d8-a64c-53e2064a4879",
   "metadata": {},
   "outputs": [],
   "source": [
    "nlay_gc0, ncol_gc0, nrow_gc0 = 3, 30, 30\n",
    "xoff = 6. * dx\n",
    "yoff = ly - 10. * dy\n",
    "dx_gc0, dy_gc0 = dx / 9., dy / 9.\n",
    "\n",
    "shape2d_gc0 = (nrow_gc0, ncol_gc0)\n",
    "shape3d_gc0 = (nlay_gc0, nrow_gc0, ncol_gc0)\n",
    "delr_gc0 = np.full(ncol_gc0, dx_gc0, dtype=float)\n",
    "delc_gc0 = np.full(nrow_gc0, dy_gc0, dtype=float)"
   ]
  },
  {
   "cell_type": "code",
   "execution_count": 23,
   "id": "e6738a76-b622-4ad8-9e4f-91171ee1e3a1",
   "metadata": {},
   "outputs": [],
   "source": [
    "top_gc0 = np.ones(shape2d_gc0, dtype=float)\n",
    "botm_gc0 = np.ones(shape3d_gc0, dtype=float)\n",
    "for k in range(nlay):\n",
    "    botm_gc0[k] = -k"
   ]
  },
  {
   "cell_type": "code",
   "execution_count": 24,
   "id": "0bf750ad-9518-4e9e-9893-2b7db9eb9ff8",
   "metadata": {},
   "outputs": [],
   "source": [
    "gc0_grid = flopy.discretization.StructuredGrid(delc=delc_gc0, delr=delr_gc0, nlay=nlay_gc0, top=top_gc0, botm=botm_gc0, xoff=xoff, yoff=yoff)"
   ]
  },
  {
   "cell_type": "code",
   "execution_count": 25,
   "id": "9acae05c-6854-4c36-809e-5bdbb7cd1145",
   "metadata": {},
   "outputs": [],
   "source": [
    "top_gc0 = src.resample_to_grid(\n",
    "    gc0_grid,\n",
    "    band=src.bands[0],\n",
    "    method=\"linear\",\n",
    "    extrapolate_edges=True,\n",
    ")"
   ]
  },
  {
   "cell_type": "code",
   "execution_count": 26,
   "id": "669ea149-63a7-47f4-a5b6-699879725cc5",
   "metadata": {},
   "outputs": [],
   "source": [
    "botm_gc0[-1] = src_pg.resample_to_grid(\n",
    "    gc0_grid,\n",
    "    band=src_pg.bands[1],\n",
    "    method=\"nearest\",\n",
    "    extrapolate_edges=True,\n",
    ")\n",
    "\n",
    "b = (top_gc0 - botm_gc0[-1]) / 3.\n",
    "botm_gc0[0] = top_gc0 - b\n",
    "botm_gc0[1] = botm_gc0[0] - b"
   ]
  },
  {
   "cell_type": "code",
   "execution_count": 27,
   "id": "fa43940e-523f-492e-9885-0cf001b829e2",
   "metadata": {},
   "outputs": [],
   "source": [
    "# redefine the grid with the updated top and botm\n",
    "gc0_grid = flopy.discretization.StructuredGrid(delc=delc_gc0, delr=delr_gc0, nlay=nlay, top=top_gc0, botm=botm_gc0, xoff=xoff, yoff=yoff)"
   ]
  },
  {
   "cell_type": "markdown",
   "id": "34dc6feb-9984-4067-916b-03902c9fc935",
   "metadata": {},
   "source": [
    "#### Child grid 1"
   ]
  },
  {
   "cell_type": "code",
   "execution_count": 28,
   "id": "8dffd7f8-e4b6-418f-b0a1-5f2e61fad8d8",
   "metadata": {},
   "outputs": [],
   "source": [
    "ncol_c1, nrow_c1 = 30, 30\n",
    "xoff = lx - 10. * dx\n",
    "yoff = 4. * dy\n",
    "dx_c1, dy_c1 = dx / 5., dy / 5.\n",
    "\n",
    "shape2d_c1 = (nrow_c1, ncol_c1)\n",
    "shape3d_c1 = (nlay, nrow_c1, ncol_c1)\n",
    "delr_c1 = np.full(ncol_c1, dx_c1, dtype=float)\n",
    "delc_c1 = np.full(nrow_c1, dy_c1, dtype=float)\n",
    "top_c1 = np.ones(shape2d_c1, dtype=float)\n",
    "botm_c1 = np.ones(shape3d_c1, dtype=float)\n",
    "for k in range(nlay):\n",
    "    botm_c1[k] = -k\n"
   ]
  },
  {
   "cell_type": "code",
   "execution_count": 29,
   "id": "169b475b-f83d-4d30-a453-3f06fc8973b1",
   "metadata": {},
   "outputs": [],
   "source": [
    "c1_grid = flopy.discretization.StructuredGrid(delc=delc_c1, delr=delr_c1, nlay=nlay, top=top_c1, botm=botm_c1, xoff=xoff, yoff=yoff)"
   ]
  },
  {
   "cell_type": "code",
   "execution_count": 30,
   "id": "8c4d861c-1aa5-4a4c-a79e-e51f9fcb3c8f",
   "metadata": {},
   "outputs": [],
   "source": [
    "top_c1 = src.resample_to_grid(\n",
    "    c1_grid,\n",
    "    band=src.bands[0],\n",
    "    method=\"linear\",\n",
    "    extrapolate_edges=True,\n",
    ")\n",
    "for k in range(nlay):\n",
    "    botm_c1[k] = src.resample_to_grid(\n",
    "        c1_grid,\n",
    "        band=src.bands[k + 1],\n",
    "        method=\"linear\",\n",
    "        extrapolate_edges=True,\n",
    "    )"
   ]
  },
  {
   "cell_type": "code",
   "execution_count": 30,
   "id": "f3e3a175-fe22-4401-b835-8579c3c4e5b2",
   "metadata": {},
   "outputs": [],
   "source": []
  },
  {
   "cell_type": "code",
   "execution_count": 31,
   "id": "1396afcd-ccb4-4e98-b042-e879ab205e6d",
   "metadata": {},
   "outputs": [],
   "source": [
    "# redefine the grid with the updated top and botm\n",
    "c1_grid = flopy.discretization.StructuredGrid(delc=delc_c1, delr=delr_c1, nlay=nlay, top=top_c1, botm=botm_c1, xoff=xoff, yoff=yoff)"
   ]
  },
  {
   "cell_type": "code",
   "execution_count": 31,
   "id": "a8cfca2f-5db9-4f34-b7aa-49443349d91f",
   "metadata": {},
   "outputs": [],
   "source": []
  },
  {
   "cell_type": "markdown",
   "id": "c1db6d90-aacf-4745-b991-e941d63cceda",
   "metadata": {},
   "source": [
    "#### Plot the grids"
   ]
  },
  {
   "cell_type": "code",
   "execution_count": 32,
   "id": "ed5ec741-0ebd-4dc3-9df8-32d6a85468d8",
   "metadata": {},
   "outputs": [
    {
     "data": {
      "text/plain": "(5.2085219701434555, 10.059761433444702)"
     },
     "execution_count": 32,
     "metadata": {},
     "output_type": "execute_result"
    }
   ],
   "source": [
    "top_c0.min(), top_c0.max()"
   ]
  },
  {
   "cell_type": "code",
   "execution_count": 33,
   "id": "866441f0-f31c-48ef-8633-e1a21c5e82fe",
   "metadata": {},
   "outputs": [
    {
     "data": {
      "text/plain": "(5.680462984135779, 13.280876414349338)"
     },
     "execution_count": 33,
     "metadata": {},
     "output_type": "execute_result"
    }
   ],
   "source": [
    "vmin, vmax = top_pg.min(), top_pg.max()\n",
    "vmin, vmax"
   ]
  },
  {
   "cell_type": "code",
   "execution_count": 34,
   "id": "5e30ef47-c379-499c-a805-0ea46eadeb01",
   "metadata": {},
   "outputs": [
    {
     "data": {
      "text/plain": "<matplotlib.collections.LineCollection at 0x13b7d7160>"
     },
     "execution_count": 34,
     "metadata": {},
     "output_type": "execute_result"
    },
    {
     "data": {
      "text/plain": "<Figure size 432x288 with 1 Axes>",
      "image/png": "[encoded data removed]"
     },
     "metadata": {
      "needs_background": "light"
     },
     "output_type": "display_data"
    }
   ],
   "source": [
    "mm = flopy.plot.PlotMapView(modelgrid=parent_grid)\n",
    "mm.plot_grid(lw=0.5, color=\"0.5\")\n",
    "# mm.plot_inactive(color_noflow=\"white\", zorder=100)\n",
    "\n",
    "mm_0 = flopy.plot.PlotMapView(modelgrid=c0_grid, extent=mm.extent)\n",
    "mm_0.plot_grid(lw=0.5, color=\"0.5\")\n",
    "\n",
    "mm_gc0 = flopy.plot.PlotMapView(modelgrid=gc0_grid, extent=mm.extent)\n",
    "mm_gc0.plot_grid(lw=0.5, color=\"0.5\")\n",
    "\n",
    "mm_1 = flopy.plot.PlotMapView(modelgrid=c1_grid, extent=mm.extent)\n",
    "mm_1.plot_grid(lw=0.5, color=\"black\")"
   ]
  },
  {
   "cell_type": "code",
   "execution_count": 35,
   "id": "83cffdf1-d2d7-4a9b-9bef-a2c0cdd36861",
   "metadata": {},
   "outputs": [
    {
     "data": {
      "text/plain": "<Figure size 432x288 with 2 Axes>",
      "image/png": "[encoded data removed]"
     },
     "metadata": {
      "needs_background": "light"
     },
     "output_type": "display_data"
    }
   ],
   "source": [
    "mm = flopy.plot.PlotMapView(modelgrid=parent_grid)\n",
    "cb_pg = mm.plot_array(parent_grid.top, vmin=vmin, vmax=vmax)\n",
    "# mm.plot_grid(lw=0.5, color=\"0.5\")\n",
    "\n",
    "mm_0 = flopy.plot.PlotMapView(modelgrid=c0_grid, extent=mm.extent)\n",
    "mm_0.plot_array(c0_grid.top, vmin=vmin, vmax=vmax)\n",
    "# mm_0.plot_grid(lw=0.5, color=\"0.5\")\n",
    "\n",
    "mm_gc0 = flopy.plot.PlotMapView(modelgrid=gc0_grid, extent=mm.extent)\n",
    "mm_gc0.plot_array(gc0_grid.top, vmin=vmin, vmax=vmax)\n",
    "# mm_gc0.plot_grid(lw=0.5, color=\"0.5\")\n",
    "\n",
    "mm_1 = flopy.plot.PlotMapView(modelgrid=c1_grid, extent=mm.extent)\n",
    "mm_1.plot_array(c1_grid.top, vmin=vmin, vmax=vmax)\n",
    "# mm_1.plot_grid(lw=0.5, color=\"black\")\n",
    "\n",
    "plt.colorbar(cb_pg, shrink=0.75);"
   ]
  },
  {
   "cell_type": "code",
   "execution_count": 36,
   "id": "b5897245-7ee7-4b0d-a103-054c17edf911",
   "metadata": {},
   "outputs": [
    {
     "data": {
      "text/plain": "<matplotlib.collections.PatchCollection at 0x13b993a30>"
     },
     "execution_count": 36,
     "metadata": {},
     "output_type": "execute_result"
    },
    {
     "data": {
      "text/plain": "<Figure size 432x288 with 1 Axes>",
      "image/png": "[encoded data removed]"
     },
     "metadata": {
      "needs_background": "light"
     },
     "output_type": "display_data"
    }
   ],
   "source": [
    "line = [(0, 22500), (lx, 22500)]\n",
    "cs = flopy.plot.PlotCrossSection(modelgrid=parent_grid, line={\"line\": line}, geographic_coords=True)\n",
    "cs.plot_grid(lw=0.5, color=\"0.5\") #, plot_inactive=False)\n",
    "cs.plot_inactive(color_noflow=\"white\")\n",
    "\n",
    "# cs_0 = flopy.plot.PlotCrossSection(modelgrid=c0_grid, extent=cs.extent, line={\"line\": line}, geographic_coords=True)\n",
    "# cs_0.plot_grid(lw=0.5, color=\"0.25\")\n",
    "# cs_0.plot_inactive(color_noflow=\"white\")\n",
    "\n",
    "# cs_gc0 = flopy.plot.PlotCrossSection(modelgrid=gc0_grid, extent=cs.extent, line={\"line\": line}, geographic_coords=True)\n",
    "# cs_gc0.plot_grid(lw=0.5, color=\"0.25\")"
   ]
  },
  {
   "cell_type": "code",
   "execution_count": 37,
   "id": "53ecd769-89bf-4159-9ed1-c3ccd0611786",
   "metadata": {},
   "outputs": [
    {
     "data": {
      "text/plain": "<matplotlib.collections.PatchCollection at 0x13ba4e350>"
     },
     "execution_count": 37,
     "metadata": {},
     "output_type": "execute_result"
    },
    {
     "data": {
      "text/plain": "<Figure size 432x288 with 1 Axes>",
      "image/png": "[encoded data removed]"
     },
     "metadata": {
      "needs_background": "light"
     },
     "output_type": "display_data"
    }
   ],
   "source": [
    "line = [(7000, ly), (7000, 0)]\n",
    "# cs = flopy.plot.PlotCrossSection(modelgrid=parent_grid, line={\"line\": line}, geographic_coords=True)\n",
    "# cs.plot_grid(lw=0.5, color=\"0.5\")\n",
    "# cs.plot_inactive(color_noflow=\"white\")\n",
    "\n",
    "cs_0 = flopy.plot.PlotCrossSection(modelgrid=c0_grid, extent=cs.extent, line={\"line\": line}, geographic_coords=True)\n",
    "cs_0.plot_grid(lw=0.5, color=\"0.25\")\n",
    "cs_0.plot_inactive(color_noflow=\"white\")\n",
    "\n",
    "# cs_gc0 = flopy.plot.PlotCrossSection(modelgrid=gc0_grid, extent=cs.extent, line={\"line\": line}, geographic_coords=True)\n",
    "# cs_gc0.plot_grid(lw=0.5, color=\"0.25\")"
   ]
  },
  {
   "cell_type": "code",
   "execution_count": 38,
   "id": "facb80e9-aad4-4623-8d34-917724a981e8",
   "metadata": {},
   "outputs": [
    {
     "data": {
      "text/plain": "<matplotlib.collections.PatchCollection at 0x13b973fa0>"
     },
     "execution_count": 38,
     "metadata": {},
     "output_type": "execute_result"
    },
    {
     "data": {
      "text/plain": "<Figure size 432x288 with 1 Axes>",
      "image/png": "[encoded data removed]"
     },
     "metadata": {
      "needs_background": "light"
     },
     "output_type": "display_data"
    }
   ],
   "source": [
    "line = [(0, ly), (lx, 0)]\n",
    "cs = flopy.plot.PlotCrossSection(modelgrid=parent_grid, line={\"line\": line}, geographic_coords=True)\n",
    "cs.plot_grid(lw=0.5, color=\"0.5\") #, show_inactive=False)"
   ]
  },
  {
   "cell_type": "code",
   "execution_count": 39,
   "id": "471a9083-f236-40c7-8575-c0749fb74ef9",
   "metadata": {},
   "outputs": [
    {
     "data": {
      "text/plain": "<matplotlib.collections.PatchCollection at 0x13bbf4ac0>"
     },
     "execution_count": 39,
     "metadata": {},
     "output_type": "execute_result"
    },
    {
     "data": {
      "text/plain": "<Figure size 432x288 with 1 Axes>",
      "image/png": "[encoded data removed]"
     },
     "metadata": {
      "needs_background": "light"
     },
     "output_type": "display_data"
    }
   ],
   "source": [
    "line = [(0, ly), (lx, 0)]\n",
    "cs = flopy.plot.PlotCrossSection(modelgrid=parent_grid, line={\"line\": line}, geographic_coords=True)\n",
    "cs.plot_grid(lw=0.5, color=\"0.5\") #, show_inactive=False)\n",
    "cs.plot_inactive(color_noflow=\"white\")\n",
    "\n",
    "cs_0 = flopy.plot.PlotCrossSection(modelgrid=c0_grid, extent=cs.extent, line={\"line\": line}, geographic_coords=True)\n",
    "cs_0.plot_grid(lw=0.5, color=\"0.25\")\n",
    "cs_0.plot_inactive(color_noflow=\"white\")\n",
    "\n",
    "cs_gc0 = flopy.plot.PlotCrossSection(modelgrid=gc0_grid, extent=cs.extent, line={\"line\": line}, geographic_coords=True)\n",
    "cs_gc0.plot_grid(lw=0.5, color=\"0.25\")\n",
    "\n",
    "cs_1 = flopy.plot.PlotCrossSection(modelgrid=c1_grid, extent=cs.extent, line={\"line\": line}, geographic_coords=True)\n",
    "cs_1.plot_grid(lw=0.5, color=\"0.25\")\n"
   ]
  },
  {
   "cell_type": "code",
   "execution_count": 39,
   "id": "93ff1df5-f990-403d-bc61-4cdb043d82e8",
   "metadata": {},
   "outputs": [],
   "source": []
  }
 ],
 "metadata": {
  "kernelspec": {
   "display_name": "Python 3 (ipykernel)",
   "language": "python",
   "name": "python3"
  },
  "language_info": {
   "codemirror_mode": {
    "name": "ipython",
    "version": 3
   },
   "file_extension": ".py",
   "mimetype": "text/x-python",
   "name": "python",
   "nbconvert_exporter": "python",
   "pygments_lexer": "ipython3",
   "version": "3.9.13"
  }
 },
 "nbformat": 4,
 "nbformat_minor": 5
}